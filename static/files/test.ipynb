{
 "cells": [
  {
   "cell_type": "code",
   "execution_count": 1,
   "metadata": {},
   "outputs": [],
   "source": [
    "import pandas as pd\n",
    "import os\n"
   ]
  },
  {
   "cell_type": "code",
   "execution_count": 2,
   "metadata": {},
   "outputs": [
    {
     "data": {
      "text/html": [
       "<div>\n",
       "<style scoped>\n",
       "    .dataframe tbody tr th:only-of-type {\n",
       "        vertical-align: middle;\n",
       "    }\n",
       "\n",
       "    .dataframe tbody tr th {\n",
       "        vertical-align: top;\n",
       "    }\n",
       "\n",
       "    .dataframe thead th {\n",
       "        text-align: right;\n",
       "    }\n",
       "</style>\n",
       "<table border=\"1\" class=\"dataframe\">\n",
       "  <thead>\n",
       "    <tr style=\"text-align: right;\">\n",
       "      <th></th>\n",
       "      <th>Opinion</th>\n",
       "      <th>Labels</th>\n",
       "      <th>Collector</th>\n",
       "      <th>Value Here</th>\n",
       "    </tr>\n",
       "  </thead>\n",
       "  <tbody>\n",
       "    <tr>\n",
       "      <th>0</th>\n",
       "      <td>khuôn viên rộng rãi, khang trang, sạch sẽ, mở ...</td>\n",
       "      <td>Positive</td>\n",
       "      <td>Vinh</td>\n",
       "      <td>NaN</td>\n",
       "    </tr>\n",
       "    <tr>\n",
       "      <th>1</th>\n",
       "      <td>Kính gửi ông hiệu trưởng cùng các bạn s...</td>\n",
       "      <td>Negative</td>\n",
       "      <td>Vinh</td>\n",
       "      <td>NaN</td>\n",
       "    </tr>\n",
       "    <tr>\n",
       "      <th>2</th>\n",
       "      <td>Mình cần tìm phòng trọ gần trường giao thông. ...</td>\n",
       "      <td>Neutral</td>\n",
       "      <td>Vinh</td>\n",
       "      <td>NaN</td>\n",
       "    </tr>\n",
       "    <tr>\n",
       "      <th>3</th>\n",
       "      <td>Đại học Giao thông vận tải là tuyệt đỉnh</td>\n",
       "      <td>Positive</td>\n",
       "      <td>Vinh</td>\n",
       "      <td>NaN</td>\n",
       "    </tr>\n",
       "    <tr>\n",
       "      <th>4</th>\n",
       "      <td>Nhiều anh sinh viên đẹp trai :(((</td>\n",
       "      <td>Positive</td>\n",
       "      <td>Vinh</td>\n",
       "      <td>NaN</td>\n",
       "    </tr>\n",
       "  </tbody>\n",
       "</table>\n",
       "</div>"
      ],
      "text/plain": [
       "                                             Opinion    Labels Collector  \\\n",
       "0  khuôn viên rộng rãi, khang trang, sạch sẽ, mở ...  Positive      Vinh   \n",
       "1  Kính gửi ông hiệu trưởng cùng các bạn s...  Negative      Vinh   \n",
       "2  Mình cần tìm phòng trọ gần trường giao thông. ...   Neutral      Vinh   \n",
       "3           Đại học Giao thông vận tải là tuyệt đỉnh  Positive      Vinh   \n",
       "4                  Nhiều anh sinh viên đẹp trai :(((  Positive      Vinh   \n",
       "\n",
       "   Value Here  \n",
       "0         NaN  \n",
       "1         NaN  \n",
       "2         NaN  \n",
       "3         NaN  \n",
       "4         NaN  "
      ]
     },
     "execution_count": 2,
     "metadata": {},
     "output_type": "execute_result"
    }
   ],
   "source": [
    "data = pd.read_excel(\"dataset.xlsx\", header=3)\n",
    "data.head()"
   ]
  },
  {
   "cell_type": "code",
   "execution_count": 3,
   "metadata": {},
   "outputs": [
    {
     "data": {
      "text/html": [
       "<div>\n",
       "<style scoped>\n",
       "    .dataframe tbody tr th:only-of-type {\n",
       "        vertical-align: middle;\n",
       "    }\n",
       "\n",
       "    .dataframe tbody tr th {\n",
       "        vertical-align: top;\n",
       "    }\n",
       "\n",
       "    .dataframe thead th {\n",
       "        text-align: right;\n",
       "    }\n",
       "</style>\n",
       "<table border=\"1\" class=\"dataframe\">\n",
       "  <thead>\n",
       "    <tr style=\"text-align: right;\">\n",
       "      <th></th>\n",
       "      <th>Opinion</th>\n",
       "    </tr>\n",
       "  </thead>\n",
       "  <tbody>\n",
       "    <tr>\n",
       "      <th>0</th>\n",
       "      <td>khuôn viên rộng rãi, khang trang, sạch sẽ, mở ...</td>\n",
       "    </tr>\n",
       "    <tr>\n",
       "      <th>1</th>\n",
       "      <td>Kính gửi ông hiệu trưởng cùng các bạn s...</td>\n",
       "    </tr>\n",
       "    <tr>\n",
       "      <th>2</th>\n",
       "      <td>Mình cần tìm phòng trọ gần trường giao thông. ...</td>\n",
       "    </tr>\n",
       "    <tr>\n",
       "      <th>3</th>\n",
       "      <td>Đại học Giao thông vận tải là tuyệt đỉnh</td>\n",
       "    </tr>\n",
       "    <tr>\n",
       "      <th>4</th>\n",
       "      <td>Nhiều anh sinh viên đẹp trai :(((</td>\n",
       "    </tr>\n",
       "  </tbody>\n",
       "</table>\n",
       "</div>"
      ],
      "text/plain": [
       "                                             Opinion\n",
       "0  khuôn viên rộng rãi, khang trang, sạch sẽ, mở ...\n",
       "1  Kính gửi ông hiệu trưởng cùng các bạn s...\n",
       "2  Mình cần tìm phòng trọ gần trường giao thông. ...\n",
       "3           Đại học Giao thông vận tải là tuyệt đỉnh\n",
       "4                  Nhiều anh sinh viên đẹp trai :((("
      ]
     },
     "execution_count": 3,
     "metadata": {},
     "output_type": "execute_result"
    }
   ],
   "source": [
    "data = data.drop(columns=[\"Collector\", \"Value Here\", \"Labels\"], axis=1)\n",
    "data.head()"
   ]
  },
  {
   "cell_type": "code",
   "execution_count": 4,
   "metadata": {},
   "outputs": [
    {
     "data": {
      "text/html": [
       "<div>\n",
       "<style scoped>\n",
       "    .dataframe tbody tr th:only-of-type {\n",
       "        vertical-align: middle;\n",
       "    }\n",
       "\n",
       "    .dataframe tbody tr th {\n",
       "        vertical-align: top;\n",
       "    }\n",
       "\n",
       "    .dataframe thead th {\n",
       "        text-align: right;\n",
       "    }\n",
       "</style>\n",
       "<table border=\"1\" class=\"dataframe\">\n",
       "  <thead>\n",
       "    <tr style=\"text-align: right;\">\n",
       "      <th></th>\n",
       "      <th>Opinion</th>\n",
       "    </tr>\n",
       "  </thead>\n",
       "  <tbody>\n",
       "    <tr>\n",
       "      <th>0</th>\n",
       "      <td>Thầy vui tính lắm 🙂</td>\n",
       "    </tr>\n",
       "    <tr>\n",
       "      <th>1</th>\n",
       "      <td>Số 3 Cầu Giấy thì quá đẳng cấp ko có gì để chê.</td>\n",
       "    </tr>\n",
       "    <tr>\n",
       "      <th>2</th>\n",
       "      <td>1 kỷ niệm nhớ mãi. Nhắc cho thằng bạn chỉnh bắ...</td>\n",
       "    </tr>\n",
       "    <tr>\n",
       "      <th>3</th>\n",
       "      <td>Mình cũng học giao thông nhưng là giao thông 1...</td>\n",
       "    </tr>\n",
       "    <tr>\n",
       "      <th>4</th>\n",
       "      <td>Tú chơi ít thôi, chơi nhiều hỏng hết cả đầu</td>\n",
       "    </tr>\n",
       "  </tbody>\n",
       "</table>\n",
       "</div>"
      ],
      "text/plain": [
       "                                             Opinion\n",
       "0                                Thầy vui tính lắm 🙂\n",
       "1    Số 3 Cầu Giấy thì quá đẳng cấp ko có gì để chê.\n",
       "2  1 kỷ niệm nhớ mãi. Nhắc cho thằng bạn chỉnh bắ...\n",
       "3  Mình cũng học giao thông nhưng là giao thông 1...\n",
       "4  Tú chơi ít thôi, chơi nhiều hỏng hết cả đầu"
      ]
     },
     "execution_count": 4,
     "metadata": {},
     "output_type": "execute_result"
    }
   ],
   "source": [
    "random_test = data.sample(100, ignore_index=True)\n",
    "\n",
    "random_test.head()"
   ]
  },
  {
   "cell_type": "code",
   "execution_count": 5,
   "metadata": {},
   "outputs": [],
   "source": [
    "random_test.to_excel(\"test_set_2.xlsx\")"
   ]
  },
  {
   "cell_type": "code",
   "execution_count": 23,
   "metadata": {},
   "outputs": [],
   "source": [
    "from random import randrange\n",
    "from datetime import timedelta\n",
    "from datetime import datetime\n",
    "\n",
    "def random_date(start : str, end : str):\n",
    "    \"\"\"\n",
    "    This function will return a random datetime between two datetime \n",
    "    objects.\n",
    "    \"\"\"\n",
    "\n",
    "    FORMAT_DATE = r\"%d/%m/%Y %H:%M:%S\"\n",
    "    delta = datetime.strptime(end, FORMAT_DATE) - \\\n",
    "    datetime.strptime(start, FORMAT_DATE)\n",
    "\n",
    "    int_delta = (delta.days * 24 * 60 * 60) + delta.seconds\n",
    "    random_second = randrange(int_delta)\n",
    "    return datetime.strptime(start, FORMAT_DATE) + timedelta(seconds=random_second)\n"
   ]
  },
  {
   "cell_type": "code",
   "execution_count": 24,
   "metadata": {},
   "outputs": [
    {
     "ename": "TypeError",
     "evalue": "can only concatenate str (not \"datetime.timedelta\") to str",
     "output_type": "error",
     "traceback": [
      "\u001b[1;31m---------------------------------------------------------------------------\u001b[0m",
      "\u001b[1;31mTypeError\u001b[0m                                 Traceback (most recent call last)",
      "Cell \u001b[1;32mIn[24], line 1\u001b[0m\n\u001b[1;32m----> 1\u001b[0m random_date(\u001b[39m\"\u001b[39;49m\u001b[39m01/05/2023 00:00:00\u001b[39;49m\u001b[39m\"\u001b[39;49m, \u001b[39m\"\u001b[39;49m\u001b[39m30/05/2023 23:59:59\u001b[39;49m\u001b[39m\"\u001b[39;49m)\n",
      "Cell \u001b[1;32mIn[23], line 17\u001b[0m, in \u001b[0;36mrandom_date\u001b[1;34m(start, end)\u001b[0m\n\u001b[0;32m     15\u001b[0m int_delta \u001b[39m=\u001b[39m (delta\u001b[39m.\u001b[39mdays \u001b[39m*\u001b[39m \u001b[39m24\u001b[39m \u001b[39m*\u001b[39m \u001b[39m60\u001b[39m \u001b[39m*\u001b[39m \u001b[39m60\u001b[39m) \u001b[39m+\u001b[39m delta\u001b[39m.\u001b[39mseconds\n\u001b[0;32m     16\u001b[0m random_second \u001b[39m=\u001b[39m randrange(int_delta)\n\u001b[1;32m---> 17\u001b[0m \u001b[39mreturn\u001b[39;00m start \u001b[39m+\u001b[39;49m timedelta(seconds\u001b[39m=\u001b[39;49mrandom_second)\n",
      "\u001b[1;31mTypeError\u001b[0m: can only concatenate str (not \"datetime.timedelta\") to str"
     ]
    }
   ],
   "source": [
    "\n",
    "random_date(\"01/05/2023 00:00:00\", \"30/05/2023 23:59:59\")"
   ]
  }
 ],
 "metadata": {
  "kernelspec": {
   "display_name": "Python 3",
   "language": "python",
   "name": "python3"
  },
  "language_info": {
   "codemirror_mode": {
    "name": "ipython",
    "version": 3
   },
   "file_extension": ".py",
   "mimetype": "text/x-python",
   "name": "python",
   "nbconvert_exporter": "python",
   "pygments_lexer": "ipython3",
   "version": "3.11.1"
  },
  "orig_nbformat": 4
 },
 "nbformat": 4,
 "nbformat_minor": 2
}
